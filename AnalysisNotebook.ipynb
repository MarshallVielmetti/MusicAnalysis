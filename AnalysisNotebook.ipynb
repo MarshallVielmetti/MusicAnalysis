{
 "metadata": {
  "language_info": {
   "codemirror_mode": {
    "name": "ipython",
    "version": 3
   },
   "file_extension": ".py",
   "mimetype": "text/x-python",
   "name": "python",
   "nbconvert_exporter": "python",
   "pygments_lexer": "ipython3",
   "version": "3.7.4"
  },
  "orig_nbformat": 2,
  "kernelspec": {
   "name": "python374jvsc74a57bd0be1e9851a8dc1d12f127c3a63a93705a27a6ba3ff5eef133a6f6b53248a02d58",
   "display_name": "Python 3.7.4 64-bit ('venv': venv)"
  },
  "metadata": {
   "interpreter": {
    "hash": "be1e9851a8dc1d12f127c3a63a93705a27a6ba3ff5eef133a6f6b53248a02d58"
   }
  }
 },
 "nbformat": 4,
 "nbformat_minor": 2,
 "cells": [
  {
   "cell_type": "code",
   "execution_count": 1,
   "metadata": {},
   "outputs": [],
   "source": [
    "from music21 import *\n",
    "import numpy as np\n",
    "import matplotlib\n",
    "import math"
   ]
  },
  {
   "cell_type": "code",
   "execution_count": 2,
   "metadata": {},
   "outputs": [],
   "source": [
    "#Randomly generate list of 100 songs\n",
    "COMPOSERS_LIST = [\"mozart\", \"beethoven\", \"haydn\", \"schubert\", \"handel\"]"
   ]
  },
  {
   "cell_type": "code",
   "execution_count": 3,
   "metadata": {},
   "outputs": [],
   "source": [
    "#Get Song List\n",
    "songList = []\n",
    "for composer in COMPOSERS_LIST:\n",
    "    songList.extend(corpus.search(composer, 'composer'))\n"
   ]
  },
  {
   "cell_type": "code",
   "execution_count": 4,
   "metadata": {},
   "outputs": [
    {
     "output_type": "stream",
     "name": "stdout",
     "text": [
      "<music21.metadata.bundles.MetadataEntry 'mozart_k155_movement1_mxl'>\n",
      "<music21.metadata.bundles.MetadataEntry 'mozart_k155_movement2_mxl'>\n",
      "<music21.metadata.bundles.MetadataEntry 'mozart_k155_movement3_mxl'>\n",
      "<music21.metadata.bundles.MetadataEntry 'mozart_k156_movement1_mxl'>\n",
      "<music21.metadata.bundles.MetadataEntry 'mozart_k156_movement2_mxl'>\n",
      "<music21.metadata.bundles.MetadataEntry 'mozart_k156_movement3_mxl'>\n",
      "<music21.metadata.bundles.MetadataEntry 'mozart_k156_movement4_mxl'>\n",
      "<music21.metadata.bundles.MetadataEntry 'mozart_k80_movement1_mxl'>\n",
      "<music21.metadata.bundles.MetadataEntry 'mozart_k80_movement2_mxl'>\n",
      "<music21.metadata.bundles.MetadataEntry 'mozart_k80_movement3_mxl'>\n",
      "<music21.metadata.bundles.MetadataEntry 'mozart_k80_movement4_mxl'>\n",
      "<music21.metadata.bundles.MetadataEntry 'beethoven_opus132_mxl'>\n",
      "<music21.metadata.bundles.MetadataEntry 'beethoven_opus133_mxl'>\n",
      "<music21.metadata.bundles.MetadataEntry 'beethoven_opus18no1_movement1_krn'>\n",
      "<music21.metadata.bundles.MetadataEntry 'beethoven_opus18no1_movement1_mxl'>\n",
      "<music21.metadata.bundles.MetadataEntry 'beethoven_opus18no1_movement2_krn'>\n",
      "<music21.metadata.bundles.MetadataEntry 'beethoven_opus18no1_movement3_krn'>\n",
      "<music21.metadata.bundles.MetadataEntry 'beethoven_opus18no1_movement3_mxl'>\n",
      "<music21.metadata.bundles.MetadataEntry 'beethoven_opus18no1_movement4_krn'>\n",
      "<music21.metadata.bundles.MetadataEntry 'beethoven_opus18no1_movement4_mxl'>\n",
      "<music21.metadata.bundles.MetadataEntry 'beethoven_opus18no3_mxl'>\n",
      "<music21.metadata.bundles.MetadataEntry 'beethoven_opus18no4_mxl'>\n",
      "<music21.metadata.bundles.MetadataEntry 'beethoven_opus18no5_mxl'>\n",
      "<music21.metadata.bundles.MetadataEntry 'beethoven_opus59no1_movement3_mxl'>\n",
      "<music21.metadata.bundles.MetadataEntry 'beethoven_opus59no1_movement4_mxl'>\n",
      "<music21.metadata.bundles.MetadataEntry 'beethoven_opus59no2_movement1_mxl'>\n",
      "<music21.metadata.bundles.MetadataEntry 'beethoven_opus59no2_movement2_mxl'>\n",
      "<music21.metadata.bundles.MetadataEntry 'beethoven_opus59no2_movement3_mxl'>\n",
      "<music21.metadata.bundles.MetadataEntry 'beethoven_opus59no2_movement4_mxl'>\n",
      "<music21.metadata.bundles.MetadataEntry 'beethoven_opus59no3_movement1_mxl'>\n",
      "<music21.metadata.bundles.MetadataEntry 'beethoven_opus59no3_movement2_mxl'>\n",
      "<music21.metadata.bundles.MetadataEntry 'beethoven_opus59no3_movement3_mxl'>\n",
      "<music21.metadata.bundles.MetadataEntry 'beethoven_opus59no3_movement4_mxl'>\n",
      "<music21.metadata.bundles.MetadataEntry 'beethoven_opus74_mxl'>\n",
      "<music21.metadata.bundles.MetadataEntry 'schubert_Lindenbaum_xml'>\n"
     ]
    }
   ],
   "source": [
    "#Get Notes From Songs\n",
    "\n",
    "#Two variables to store\n",
    "middleNotes = 0\n",
    "outerNotes = 0\n",
    "\n",
    "for song in songList:\n",
    "    songNotes = song.parse().flat.getElementsByClass(note.Note)\n",
    "    print(song)\n",
    "    for singleNote in songNotes:\n",
    "        if singleNote.octave == 4 or singleNote.octave == 5:\n",
    "            middleNotes += 1\n",
    "        else:\n",
    "            outerNotes += 1"
   ]
  },
  {
   "cell_type": "code",
   "execution_count": 5,
   "metadata": {},
   "outputs": [
    {
     "output_type": "stream",
     "name": "stdout",
     "text": [
      "(0.6049078472764058, 0.6098891109911881)\n"
     ]
    }
   ],
   "source": [
    "#Statistical Analysis\n",
    "totalNotes = middleNotes + outerNotes\n",
    "alpha = 0.05\n",
    "zStar = 1.96\n",
    "\n",
    "pHat = middleNotes / totalNotes\n",
    "stdError = math.sqrt(pHat*(1-pHat)/totalNotes)\n",
    "\n",
    "lowerBound = pHat - zStar*stdError\n",
    "upperBound = pHat + zStar*stdError\n",
    "\n",
    "confidenceInterval = (lowerBound, upperBound)\n",
    "print(confidenceInterval)\n"
   ]
  }
 ]
}